{
  "cells": [
    {
      "cell_type": "markdown",
      "metadata": {
        "id": "view-in-github",
        "colab_type": "text"
      },
      "source": [
        "<a href=\"https://colab.research.google.com/github/michael-borck/isys2001-worksheets/blob/main/stocks_daily_return.ipynb\" target=\"_parent\"><img src=\"https://colab.research.google.com/assets/colab-badge.svg\" alt=\"Open In Colab\"/></a>"
      ]
    },
    {
      "cell_type": "markdown",
      "id": "b5ae41e0",
      "metadata": {
        "id": "b5ae41e0"
      },
      "source": [
        "# Stock Data\n",
        "\n",
        "* Read CSV file\n",
        "* Use CSV module\n",
        "* Use Pandas\n",
        "  * CSV\n",
        "  * Excel"
      ]
    },
    {
      "cell_type": "code",
      "execution_count": null,
      "id": "1e11a5be",
      "metadata": {
        "id": "1e11a5be"
      },
      "outputs": [],
      "source": [
        ""
      ]
    },
    {
      "cell_type": "markdown",
      "id": "e63f358d",
      "metadata": {
        "id": "e63f358d"
      },
      "source": [
        "## Read CSV file"
      ]
    },
    {
      "cell_type": "code",
      "execution_count": null,
      "id": "425280cb",
      "metadata": {
        "id": "425280cb"
      },
      "outputs": [],
      "source": [
        ""
      ]
    },
    {
      "cell_type": "markdown",
      "id": "6d1de788",
      "metadata": {
        "id": "6d1de788"
      },
      "source": [
        "## Module: CSV"
      ]
    },
    {
      "cell_type": "code",
      "execution_count": null,
      "id": "17d5e7e0",
      "metadata": {
        "id": "17d5e7e0"
      },
      "outputs": [],
      "source": [
        ""
      ]
    },
    {
      "cell_type": "markdown",
      "id": "1af66a5b",
      "metadata": {
        "id": "1af66a5b"
      },
      "source": [
        "## Module: Pandas"
      ]
    },
    {
      "cell_type": "code",
      "execution_count": null,
      "id": "494f6466",
      "metadata": {
        "id": "494f6466"
      },
      "outputs": [],
      "source": [
        ""
      ]
    }
  ],
  "metadata": {
    "kernelspec": {
      "display_name": "Python 3 (ipykernel)",
      "language": "python",
      "name": "python3"
    },
    "language_info": {
      "codemirror_mode": {
        "name": "ipython",
        "version": 3
      },
      "file_extension": ".py",
      "mimetype": "text/x-python",
      "name": "python",
      "nbconvert_exporter": "python",
      "pygments_lexer": "ipython3",
      "version": "3.9.6"
    },
    "colab": {
      "name": "stocks_daily_return.ipynb",
      "provenance": [],
      "include_colab_link": true
    }
  },
  "nbformat": 4,
  "nbformat_minor": 5
}