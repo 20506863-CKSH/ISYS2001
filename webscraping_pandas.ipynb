{
  "nbformat": 4,
  "nbformat_minor": 0,
  "metadata": {
    "colab": {
      "private_outputs": true,
      "provenance": [],
      "authorship_tag": "ABX9TyPwAwyY77zfACVnvdja2Yr1",
      "include_colab_link": true
    },
    "kernelspec": {
      "name": "python3",
      "display_name": "Python 3"
    },
    "language_info": {
      "name": "python"
    }
  },
  "cells": [
    {
      "cell_type": "markdown",
      "metadata": {
        "id": "view-in-github",
        "colab_type": "text"
      },
      "source": [
        "<a href=\"https://colab.research.google.com/github/michael-borck/isys2001-worksheets/blob/main/webscraping_pandas.ipynb\" target=\"_parent\"><img src=\"https://colab.research.google.com/assets/colab-badge.svg\" alt=\"Open In Colab\"/></a>"
      ]
    },
    {
      "cell_type": "markdown",
      "source": [
        "# Webscraping Using Pandas"
      ],
      "metadata": {
        "id": "7gJzY7ptL8zS"
      }
    },
    {
      "cell_type": "code",
      "execution_count": null,
      "metadata": {
        "id": "W4Jnl3SgJXsl"
      },
      "outputs": [],
      "source": [
        "# Load pandas\n",
        "import pandas as pd\n",
        "\n",
        "# Webpage url                                                                                                               \n",
        "url = 'https://www.basketball-reference.com/leagues/NBA_2022_per_game.html'\n",
        "\n",
        "# Extract tables\n",
        "dfs = pd.read_html(url)\n",
        "\n",
        "# Get first table                                                                                                           \n",
        "df = dfs[0]\n",
        "df"
      ]
    },
    {
      "cell_type": "code",
      "source": [],
      "metadata": {
        "id": "NZkMU4n-MIJk"
      },
      "execution_count": null,
      "outputs": []
    }
  ]
}