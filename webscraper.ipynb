{
  "nbformat": 4,
  "nbformat_minor": 0,
  "metadata": {
    "colab": {
      "private_outputs": true,
      "provenance": [],
      "authorship_tag": "ABX9TyNrvRjJ7GGr6FrdEa3GgORx",
      "include_colab_link": true
    },
    "kernelspec": {
      "name": "python3",
      "display_name": "Python 3"
    },
    "language_info": {
      "name": "python"
    }
  },
  "cells": [
    {
      "cell_type": "markdown",
      "metadata": {
        "id": "view-in-github",
        "colab_type": "text"
      },
      "source": [
        "<a href=\"https://colab.research.google.com/github/michael-borck/isys2001-worksheets/blob/main/webscraper.ipynb\" target=\"_parent\"><img src=\"https://colab.research.google.com/assets/colab-badge.svg\" alt=\"Open In Colab\"/></a>"
      ]
    },
    {
      "cell_type": "markdown",
      "source": [
        "# Web-Scraping\n",
        "\n",
        "Run the following cells to understand what is happening.  You might have to read the documentation or do some google searchs on the library newspaper3K.\n",
        "\n",
        "Once you are ahppy you understand the notebook.  Moidify the notbook to prompt the user for a URL.\n"
      ],
      "metadata": {
        "id": "nPQaRQFlGQpu"
      }
    },
    {
      "cell_type": "markdown",
      "source": [
        "## Install Packages\n",
        "\n",
        "Documentation: https://newspaper.readthedocs.io/en/latest/\n",
        "\n",
        "Adapted from: https://www.youtube.com/watch?v=Hfry5XnISyc"
      ],
      "metadata": {
        "id": "_5RsoTJKDLfP"
      }
    },
    {
      "cell_type": "code",
      "execution_count": null,
      "metadata": {
        "id": "Ol6M_mzMxHT8"
      },
      "outputs": [],
      "source": [
        "!pip install newspaper3k"
      ]
    },
    {
      "cell_type": "markdown",
      "source": [
        "## Scrape Article"
      ],
      "metadata": {
        "id": "DC6Y9OCdDQiU"
      }
    },
    {
      "cell_type": "code",
      "source": [
        "from newspaper import Article\n",
        "\n",
        "url = 'http://fox13now.com/2013/12/30/new-year-new-laws-obamacare-pot-guns-and-drones/'\n",
        "article = Article(url)\n",
        "article.download()"
      ],
      "metadata": {
        "id": "TzuqRrQEBuok"
      },
      "execution_count": null,
      "outputs": []
    },
    {
      "cell_type": "markdown",
      "source": [
        "## Parse the article"
      ],
      "metadata": {
        "id": "uaXp0C-qDV_E"
      }
    },
    {
      "cell_type": "code",
      "source": [
        "article.parse()"
      ],
      "metadata": {
        "id": "zd0X4Lu-DG9g"
      },
      "execution_count": null,
      "outputs": []
    },
    {
      "cell_type": "code",
      "source": [
        "article.authors"
      ],
      "metadata": {
        "id": "kso0XL6eDd3L"
      },
      "execution_count": null,
      "outputs": []
    },
    {
      "cell_type": "code",
      "source": [
        "article.publish_date"
      ],
      "metadata": {
        "id": "SYONbJPNDgKH"
      },
      "execution_count": null,
      "outputs": []
    },
    {
      "cell_type": "code",
      "source": [
        "article.top_image"
      ],
      "metadata": {
        "id": "XRu8DtBYDxjt"
      },
      "execution_count": null,
      "outputs": []
    },
    {
      "cell_type": "code",
      "source": [
        "print(article.text)"
      ],
      "metadata": {
        "id": "CFdqJikED1k4"
      },
      "execution_count": null,
      "outputs": []
    },
    {
      "cell_type": "markdown",
      "source": [
        "## Data Processing"
      ],
      "metadata": {
        "id": "i3Sm64XIEdwO"
      }
    },
    {
      "cell_type": "code",
      "source": [
        "import nltk\n",
        "nltk.download('punkt')"
      ],
      "metadata": {
        "id": "kCnpgRiUEPSB"
      },
      "execution_count": null,
      "outputs": []
    },
    {
      "cell_type": "code",
      "source": [
        "article.nlp()"
      ],
      "metadata": {
        "id": "ddPkxRmOEn4f"
      },
      "execution_count": null,
      "outputs": []
    },
    {
      "cell_type": "code",
      "source": [
        "article.keywords"
      ],
      "metadata": {
        "id": "ziF9eYzVFfNa"
      },
      "execution_count": null,
      "outputs": []
    },
    {
      "cell_type": "code",
      "source": [
        "print(article.summary)"
      ],
      "metadata": {
        "id": "lK8TZN6tFiCH"
      },
      "execution_count": null,
      "outputs": []
    }
  ]
}