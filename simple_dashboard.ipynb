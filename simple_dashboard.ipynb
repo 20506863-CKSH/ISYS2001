{
  "nbformat": 4,
  "nbformat_minor": 0,
  "metadata": {
    "colab": {
      "name": "simple_dashboard.ipynb",
      "provenance": [],
      "authorship_tag": "ABX9TyPJaR8NiOrztQYO21LKB8eq",
      "include_colab_link": true
    },
    "kernelspec": {
      "name": "python3",
      "display_name": "Python 3"
    },
    "language_info": {
      "name": "python"
    },
    "widgets": {
      "application/vnd.jupyter.widget-state+json": {
        "156f53c4a681494b8c57edac7b3ebb00": {
          "model_module": "@jupyter-widgets/controls",
          "model_name": "VBoxModel",
          "model_module_version": "1.5.0",
          "state": {
            "_dom_classes": [
              "widget-interact"
            ],
            "_model_module": "@jupyter-widgets/controls",
            "_model_module_version": "1.5.0",
            "_model_name": "VBoxModel",
            "_view_count": null,
            "_view_module": "@jupyter-widgets/controls",
            "_view_module_version": "1.5.0",
            "_view_name": "VBoxView",
            "box_style": "",
            "children": [
              "IPY_MODEL_5c7f8b04f9924e5facb3a9104a9253d7",
              "IPY_MODEL_d20f166a81b2430da78b70830d24b432",
              "IPY_MODEL_a790f965312944c19a21b317768a56ad",
              "IPY_MODEL_66418b64d40b463495c632ef0851807c",
              "IPY_MODEL_f4df8a77570e4ba98bf15c0b36f011d3"
            ],
            "layout": "IPY_MODEL_3e72b3198dc741cb877fac57dfeadf88"
          }
        },
        "5c7f8b04f9924e5facb3a9104a9253d7": {
          "model_module": "@jupyter-widgets/controls",
          "model_name": "FloatSliderModel",
          "model_module_version": "1.5.0",
          "state": {
            "_dom_classes": [],
            "_model_module": "@jupyter-widgets/controls",
            "_model_module_version": "1.5.0",
            "_model_name": "FloatSliderModel",
            "_view_count": null,
            "_view_module": "@jupyter-widgets/controls",
            "_view_module_version": "1.5.0",
            "_view_name": "FloatSliderView",
            "continuous_update": true,
            "description": "freq",
            "description_tooltip": null,
            "disabled": false,
            "layout": "IPY_MODEL_0139c42c57a34c4bac80f08b21eb00ad",
            "max": 3,
            "min": -1,
            "orientation": "horizontal",
            "readout": true,
            "readout_format": ".2f",
            "step": 0.1,
            "style": "IPY_MODEL_c7d5eaac3436438587fc05d9e24b45e3",
            "value": 2.7
          }
        },
        "d20f166a81b2430da78b70830d24b432": {
          "model_module": "@jupyter-widgets/controls",
          "model_name": "DropdownModel",
          "model_module_version": "1.5.0",
          "state": {
            "_dom_classes": [],
            "_model_module": "@jupyter-widgets/controls",
            "_model_module_version": "1.5.0",
            "_model_name": "DropdownModel",
            "_options_labels": [
              "blue",
              "red",
              "green"
            ],
            "_view_count": null,
            "_view_module": "@jupyter-widgets/controls",
            "_view_module_version": "1.5.0",
            "_view_name": "DropdownView",
            "description": "color",
            "description_tooltip": null,
            "disabled": false,
            "index": 0,
            "layout": "IPY_MODEL_a463e4f074214cdb954952be60e17251",
            "style": "IPY_MODEL_bd53797eb3474e559a9f0574c1f30534"
          }
        },
        "a790f965312944c19a21b317768a56ad": {
          "model_module": "@jupyter-widgets/controls",
          "model_name": "FloatSliderModel",
          "model_module_version": "1.5.0",
          "state": {
            "_dom_classes": [],
            "_model_module": "@jupyter-widgets/controls",
            "_model_module_version": "1.5.0",
            "_model_name": "FloatSliderModel",
            "_view_count": null,
            "_view_module": "@jupyter-widgets/controls",
            "_view_module_version": "1.5.0",
            "_view_name": "FloatSliderView",
            "continuous_update": true,
            "description": "lw",
            "description_tooltip": null,
            "disabled": false,
            "layout": "IPY_MODEL_dfa21988af7143f0891bda1ede7ccd57",
            "max": 10,
            "min": 1,
            "orientation": "horizontal",
            "readout": true,
            "readout_format": ".2f",
            "step": 0.1,
            "style": "IPY_MODEL_54a1cb95fba34a5490c18e6e00a84edc",
            "value": 4.7
          }
        },
        "66418b64d40b463495c632ef0851807c": {
          "model_module": "@jupyter-widgets/controls",
          "model_name": "CheckboxModel",
          "model_module_version": "1.5.0",
          "state": {
            "_dom_classes": [],
            "_model_module": "@jupyter-widgets/controls",
            "_model_module_version": "1.5.0",
            "_model_name": "CheckboxModel",
            "_view_count": null,
            "_view_module": "@jupyter-widgets/controls",
            "_view_module_version": "1.5.0",
            "_view_name": "CheckboxView",
            "description": "grid",
            "description_tooltip": null,
            "disabled": false,
            "indent": true,
            "layout": "IPY_MODEL_522a7e3f05ba433d908e7f6d98089305",
            "style": "IPY_MODEL_72f11bc883e64745a8d16e295adf2b71",
            "value": true
          }
        },
        "f4df8a77570e4ba98bf15c0b36f011d3": {
          "model_module": "@jupyter-widgets/output",
          "model_name": "OutputModel",
          "model_module_version": "1.0.0",
          "state": {
            "_dom_classes": [],
            "_model_module": "@jupyter-widgets/output",
            "_model_module_version": "1.0.0",
            "_model_name": "OutputModel",
            "_view_count": null,
            "_view_module": "@jupyter-widgets/output",
            "_view_module_version": "1.0.0",
            "_view_name": "OutputView",
            "layout": "IPY_MODEL_0560f6a56e3e491aabde732cd8dbbfe8",
            "msg_id": "",
            "outputs": [
              {
                "output_type": "display_data",
                "data": {
                  "text/plain": "<Figure size 576x432 with 1 Axes>",
                  "image/png": "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\n"
                },
                "metadata": {
                  "needs_background": "light"
                }
              }
            ]
          }
        },
        "3e72b3198dc741cb877fac57dfeadf88": {
          "model_module": "@jupyter-widgets/base",
          "model_name": "LayoutModel",
          "model_module_version": "1.2.0",
          "state": {
            "_model_module": "@jupyter-widgets/base",
            "_model_module_version": "1.2.0",
            "_model_name": "LayoutModel",
            "_view_count": null,
            "_view_module": "@jupyter-widgets/base",
            "_view_module_version": "1.2.0",
            "_view_name": "LayoutView",
            "align_content": null,
            "align_items": null,
            "align_self": null,
            "border": null,
            "bottom": null,
            "display": null,
            "flex": null,
            "flex_flow": null,
            "grid_area": null,
            "grid_auto_columns": null,
            "grid_auto_flow": null,
            "grid_auto_rows": null,
            "grid_column": null,
            "grid_gap": null,
            "grid_row": null,
            "grid_template_areas": null,
            "grid_template_columns": null,
            "grid_template_rows": null,
            "height": null,
            "justify_content": null,
            "justify_items": null,
            "left": null,
            "margin": null,
            "max_height": null,
            "max_width": null,
            "min_height": null,
            "min_width": null,
            "object_fit": null,
            "object_position": null,
            "order": null,
            "overflow": null,
            "overflow_x": null,
            "overflow_y": null,
            "padding": null,
            "right": null,
            "top": null,
            "visibility": null,
            "width": null
          }
        },
        "0139c42c57a34c4bac80f08b21eb00ad": {
          "model_module": "@jupyter-widgets/base",
          "model_name": "LayoutModel",
          "model_module_version": "1.2.0",
          "state": {
            "_model_module": "@jupyter-widgets/base",
            "_model_module_version": "1.2.0",
            "_model_name": "LayoutModel",
            "_view_count": null,
            "_view_module": "@jupyter-widgets/base",
            "_view_module_version": "1.2.0",
            "_view_name": "LayoutView",
            "align_content": null,
            "align_items": null,
            "align_self": null,
            "border": null,
            "bottom": null,
            "display": null,
            "flex": null,
            "flex_flow": null,
            "grid_area": null,
            "grid_auto_columns": null,
            "grid_auto_flow": null,
            "grid_auto_rows": null,
            "grid_column": null,
            "grid_gap": null,
            "grid_row": null,
            "grid_template_areas": null,
            "grid_template_columns": null,
            "grid_template_rows": null,
            "height": null,
            "justify_content": null,
            "justify_items": null,
            "left": null,
            "margin": null,
            "max_height": null,
            "max_width": null,
            "min_height": null,
            "min_width": null,
            "object_fit": null,
            "object_position": null,
            "order": null,
            "overflow": null,
            "overflow_x": null,
            "overflow_y": null,
            "padding": null,
            "right": null,
            "top": null,
            "visibility": null,
            "width": null
          }
        },
        "c7d5eaac3436438587fc05d9e24b45e3": {
          "model_module": "@jupyter-widgets/controls",
          "model_name": "SliderStyleModel",
          "model_module_version": "1.5.0",
          "state": {
            "_model_module": "@jupyter-widgets/controls",
            "_model_module_version": "1.5.0",
            "_model_name": "SliderStyleModel",
            "_view_count": null,
            "_view_module": "@jupyter-widgets/base",
            "_view_module_version": "1.2.0",
            "_view_name": "StyleView",
            "description_width": "",
            "handle_color": null
          }
        },
        "a463e4f074214cdb954952be60e17251": {
          "model_module": "@jupyter-widgets/base",
          "model_name": "LayoutModel",
          "model_module_version": "1.2.0",
          "state": {
            "_model_module": "@jupyter-widgets/base",
            "_model_module_version": "1.2.0",
            "_model_name": "LayoutModel",
            "_view_count": null,
            "_view_module": "@jupyter-widgets/base",
            "_view_module_version": "1.2.0",
            "_view_name": "LayoutView",
            "align_content": null,
            "align_items": null,
            "align_self": null,
            "border": null,
            "bottom": null,
            "display": null,
            "flex": null,
            "flex_flow": null,
            "grid_area": null,
            "grid_auto_columns": null,
            "grid_auto_flow": null,
            "grid_auto_rows": null,
            "grid_column": null,
            "grid_gap": null,
            "grid_row": null,
            "grid_template_areas": null,
            "grid_template_columns": null,
            "grid_template_rows": null,
            "height": null,
            "justify_content": null,
            "justify_items": null,
            "left": null,
            "margin": null,
            "max_height": null,
            "max_width": null,
            "min_height": null,
            "min_width": null,
            "object_fit": null,
            "object_position": null,
            "order": null,
            "overflow": null,
            "overflow_x": null,
            "overflow_y": null,
            "padding": null,
            "right": null,
            "top": null,
            "visibility": null,
            "width": null
          }
        },
        "bd53797eb3474e559a9f0574c1f30534": {
          "model_module": "@jupyter-widgets/controls",
          "model_name": "DescriptionStyleModel",
          "model_module_version": "1.5.0",
          "state": {
            "_model_module": "@jupyter-widgets/controls",
            "_model_module_version": "1.5.0",
            "_model_name": "DescriptionStyleModel",
            "_view_count": null,
            "_view_module": "@jupyter-widgets/base",
            "_view_module_version": "1.2.0",
            "_view_name": "StyleView",
            "description_width": ""
          }
        },
        "dfa21988af7143f0891bda1ede7ccd57": {
          "model_module": "@jupyter-widgets/base",
          "model_name": "LayoutModel",
          "model_module_version": "1.2.0",
          "state": {
            "_model_module": "@jupyter-widgets/base",
            "_model_module_version": "1.2.0",
            "_model_name": "LayoutModel",
            "_view_count": null,
            "_view_module": "@jupyter-widgets/base",
            "_view_module_version": "1.2.0",
            "_view_name": "LayoutView",
            "align_content": null,
            "align_items": null,
            "align_self": null,
            "border": null,
            "bottom": null,
            "display": null,
            "flex": null,
            "flex_flow": null,
            "grid_area": null,
            "grid_auto_columns": null,
            "grid_auto_flow": null,
            "grid_auto_rows": null,
            "grid_column": null,
            "grid_gap": null,
            "grid_row": null,
            "grid_template_areas": null,
            "grid_template_columns": null,
            "grid_template_rows": null,
            "height": null,
            "justify_content": null,
            "justify_items": null,
            "left": null,
            "margin": null,
            "max_height": null,
            "max_width": null,
            "min_height": null,
            "min_width": null,
            "object_fit": null,
            "object_position": null,
            "order": null,
            "overflow": null,
            "overflow_x": null,
            "overflow_y": null,
            "padding": null,
            "right": null,
            "top": null,
            "visibility": null,
            "width": null
          }
        },
        "54a1cb95fba34a5490c18e6e00a84edc": {
          "model_module": "@jupyter-widgets/controls",
          "model_name": "SliderStyleModel",
          "model_module_version": "1.5.0",
          "state": {
            "_model_module": "@jupyter-widgets/controls",
            "_model_module_version": "1.5.0",
            "_model_name": "SliderStyleModel",
            "_view_count": null,
            "_view_module": "@jupyter-widgets/base",
            "_view_module_version": "1.2.0",
            "_view_name": "StyleView",
            "description_width": "",
            "handle_color": null
          }
        },
        "522a7e3f05ba433d908e7f6d98089305": {
          "model_module": "@jupyter-widgets/base",
          "model_name": "LayoutModel",
          "model_module_version": "1.2.0",
          "state": {
            "_model_module": "@jupyter-widgets/base",
            "_model_module_version": "1.2.0",
            "_model_name": "LayoutModel",
            "_view_count": null,
            "_view_module": "@jupyter-widgets/base",
            "_view_module_version": "1.2.0",
            "_view_name": "LayoutView",
            "align_content": null,
            "align_items": null,
            "align_self": null,
            "border": null,
            "bottom": null,
            "display": null,
            "flex": null,
            "flex_flow": null,
            "grid_area": null,
            "grid_auto_columns": null,
            "grid_auto_flow": null,
            "grid_auto_rows": null,
            "grid_column": null,
            "grid_gap": null,
            "grid_row": null,
            "grid_template_areas": null,
            "grid_template_columns": null,
            "grid_template_rows": null,
            "height": null,
            "justify_content": null,
            "justify_items": null,
            "left": null,
            "margin": null,
            "max_height": null,
            "max_width": null,
            "min_height": null,
            "min_width": null,
            "object_fit": null,
            "object_position": null,
            "order": null,
            "overflow": null,
            "overflow_x": null,
            "overflow_y": null,
            "padding": null,
            "right": null,
            "top": null,
            "visibility": null,
            "width": null
          }
        },
        "72f11bc883e64745a8d16e295adf2b71": {
          "model_module": "@jupyter-widgets/controls",
          "model_name": "DescriptionStyleModel",
          "model_module_version": "1.5.0",
          "state": {
            "_model_module": "@jupyter-widgets/controls",
            "_model_module_version": "1.5.0",
            "_model_name": "DescriptionStyleModel",
            "_view_count": null,
            "_view_module": "@jupyter-widgets/base",
            "_view_module_version": "1.2.0",
            "_view_name": "StyleView",
            "description_width": ""
          }
        },
        "0560f6a56e3e491aabde732cd8dbbfe8": {
          "model_module": "@jupyter-widgets/base",
          "model_name": "LayoutModel",
          "model_module_version": "1.2.0",
          "state": {
            "_model_module": "@jupyter-widgets/base",
            "_model_module_version": "1.2.0",
            "_model_name": "LayoutModel",
            "_view_count": null,
            "_view_module": "@jupyter-widgets/base",
            "_view_module_version": "1.2.0",
            "_view_name": "LayoutView",
            "align_content": null,
            "align_items": null,
            "align_self": null,
            "border": null,
            "bottom": null,
            "display": null,
            "flex": null,
            "flex_flow": null,
            "grid_area": null,
            "grid_auto_columns": null,
            "grid_auto_flow": null,
            "grid_auto_rows": null,
            "grid_column": null,
            "grid_gap": null,
            "grid_row": null,
            "grid_template_areas": null,
            "grid_template_columns": null,
            "grid_template_rows": null,
            "height": null,
            "justify_content": null,
            "justify_items": null,
            "left": null,
            "margin": null,
            "max_height": null,
            "max_width": null,
            "min_height": null,
            "min_width": null,
            "object_fit": null,
            "object_position": null,
            "order": null,
            "overflow": null,
            "overflow_x": null,
            "overflow_y": null,
            "padding": null,
            "right": null,
            "top": null,
            "visibility": null,
            "width": null
          }
        }
      }
    }
  },
  "cells": [
    {
      "cell_type": "markdown",
      "metadata": {
        "id": "view-in-github",
        "colab_type": "text"
      },
      "source": [
        "<a href=\"https://colab.research.google.com/github/michael-borck/isys2001-worksheets/blob/main/simple_dashboard.ipynb\" target=\"_parent\"><img src=\"https://colab.research.google.com/assets/colab-badge.svg\" alt=\"Open In Colab\"/></a>"
      ]
    },
    {
      "cell_type": "markdown",
      "source": [
        "# Simple Dashboard\n",
        "\n",
        "Explore the  sine function!"
      ],
      "metadata": {
        "id": "91p5GmKwB9ac"
      }
    },
    {
      "cell_type": "code",
      "execution_count": 3,
      "metadata": {
        "colab": {
          "base_uri": "https://localhost:8080/",
          "height": 519,
          "referenced_widgets": [
            "156f53c4a681494b8c57edac7b3ebb00",
            "5c7f8b04f9924e5facb3a9104a9253d7",
            "d20f166a81b2430da78b70830d24b432",
            "a790f965312944c19a21b317768a56ad",
            "66418b64d40b463495c632ef0851807c",
            "f4df8a77570e4ba98bf15c0b36f011d3",
            "3e72b3198dc741cb877fac57dfeadf88",
            "0139c42c57a34c4bac80f08b21eb00ad",
            "c7d5eaac3436438587fc05d9e24b45e3",
            "a463e4f074214cdb954952be60e17251",
            "bd53797eb3474e559a9f0574c1f30534",
            "dfa21988af7143f0891bda1ede7ccd57",
            "54a1cb95fba34a5490c18e6e00a84edc",
            "522a7e3f05ba433d908e7f6d98089305",
            "72f11bc883e64745a8d16e295adf2b71",
            "0560f6a56e3e491aabde732cd8dbbfe8"
          ]
        },
        "id": "qszNA_PhZsxA",
        "outputId": "7c3486d3-1bc8-49ba-8d83-648ec4d91fb2"
      },
      "outputs": [
        {
          "output_type": "display_data",
          "data": {
            "text/plain": [
              "interactive(children=(FloatSlider(value=1.0, description='freq', max=3.0, min=-1.0), Dropdown(description='col…"
            ],
            "application/vnd.jupyter.widget-view+json": {
              "version_major": 2,
              "version_minor": 0,
              "model_id": "156f53c4a681494b8c57edac7b3ebb00"
            }
          },
          "metadata": {}
        },
        {
          "output_type": "execute_result",
          "data": {
            "text/plain": [
              "<function __main__.plot>"
            ]
          },
          "metadata": {},
          "execution_count": 3
        }
      ],
      "source": [
        "#@title\n",
        "import ipywidgets as widgets\n",
        "import numpy as np\n",
        "import matplotlib.pyplot as plt\n",
        "\n",
        "def plot(freq=1., color='blue', lw=2, grid=True):\n",
        "    t = np.linspace(-1., +1., 1000)\n",
        "    fig, ax = plt.subplots(1, 1, figsize=(8, 6))\n",
        "    ax.plot(t, np.sin(2 * np.pi * freq * t), lw=lw, color=color)\n",
        "    ax.grid(grid)\n",
        "\n",
        "widgets.interact(plot, color=['blue', 'red', 'green'], lw=(1., 10.))"
      ]
    },
    {
      "cell_type": "code",
      "source": [
        ""
      ],
      "metadata": {
        "id": "TgO1pzlzIn2k"
      },
      "execution_count": null,
      "outputs": []
    }
  ]
}