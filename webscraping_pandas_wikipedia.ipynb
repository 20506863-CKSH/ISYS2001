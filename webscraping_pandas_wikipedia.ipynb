{
  "nbformat": 4,
  "nbformat_minor": 0,
  "metadata": {
    "colab": {
      "private_outputs": true,
      "provenance": [],
      "authorship_tag": "ABX9TyPBsUfw6LcImC3/KjUlin/U",
      "include_colab_link": true
    },
    "kernelspec": {
      "name": "python3",
      "display_name": "Python 3"
    },
    "language_info": {
      "name": "python"
    }
  },
  "cells": [
    {
      "cell_type": "markdown",
      "metadata": {
        "id": "view-in-github",
        "colab_type": "text"
      },
      "source": [
        "<a href=\"https://colab.research.google.com/github/michael-borck/isys2001-worksheets/blob/main/webscraping_pandas_wikipedia.ipynb\" target=\"_parent\"><img src=\"https://colab.research.google.com/assets/colab-badge.svg\" alt=\"Open In Colab\"/></a>"
      ]
    },
    {
      "cell_type": "code",
      "execution_count": null,
      "metadata": {
        "id": "WvbJH9PWZvHu"
      },
      "outputs": [],
      "source": [
        "import pandas as pd\n",
        "import matplotlib.pyplot as plt"
      ]
    },
    {
      "cell_type": "code",
      "source": [
        "url = 'https://en.wikipedia.org/wiki/World_population_estimates'"
      ],
      "metadata": {
        "id": "_CnAevZTaCP5"
      },
      "execution_count": null,
      "outputs": []
    },
    {
      "cell_type": "code",
      "source": [
        "data = pd.read_html(url, header = 0)"
      ],
      "metadata": {
        "id": "SF7h-1IBaOoK"
      },
      "execution_count": null,
      "outputs": []
    },
    {
      "cell_type": "code",
      "source": [
        "post_war = data[2]"
      ],
      "metadata": {
        "id": "-aWa4kamaWfk"
      },
      "execution_count": null,
      "outputs": []
    },
    {
      "cell_type": "code",
      "source": [
        "post_war = post_war.set_index('Year')\n",
        "post_war.head()"
      ],
      "metadata": {
        "id": "6ImYcXsCagbA"
      },
      "execution_count": null,
      "outputs": []
    },
    {
      "cell_type": "code",
      "source": [
        "fig, ax = plt.subplots(figsize=(12,12))\n",
        "\n",
        "post_war.plot(ax=ax, linewidth=7)\n",
        "ax.set_ylabel('Global Population')\n",
        "plt.show()"
      ],
      "metadata": {
        "id": "vg8Kqzwwahv6"
      },
      "execution_count": null,
      "outputs": []
    },
    {
      "cell_type": "code",
      "source": [],
      "metadata": {
        "id": "DDut4xQwap2H"
      },
      "execution_count": null,
      "outputs": []
    }
  ]
}