{
  "nbformat": 4,
  "nbformat_minor": 0,
  "metadata": {
    "colab": {
      "private_outputs": true,
      "provenance": [],
      "authorship_tag": "ABX9TyMOjXGpHT3NWERh732oW4Th",
      "include_colab_link": true
    },
    "kernelspec": {
      "name": "python3",
      "display_name": "Python 3"
    },
    "language_info": {
      "name": "python"
    }
  },
  "cells": [
    {
      "cell_type": "markdown",
      "metadata": {
        "id": "view-in-github",
        "colab_type": "text"
      },
      "source": [
        "<a href=\"https://colab.research.google.com/github/michael-borck/isys2001-worksheets/blob/main/alogithms.ipynb\" target=\"_parent\"><img src=\"https://colab.research.google.com/assets/colab-badge.svg\" alt=\"Open In Colab\"/></a>"
      ]
    },
    {
      "cell_type": "code",
      "execution_count": null,
      "metadata": {
        "id": "Vy5ziuMl-_r8"
      },
      "outputs": [],
      "source": [
        "def linear_search(arr, target):\n",
        "    for index, element in enumerate(arr):\n",
        "        if element == target:\n",
        "            return index  # Target found, return its index\n",
        "\n",
        "    return -1  # Target not found, return -1\n",
        "\n",
        "# Example usage:\n",
        "arr = [64, 34, 25, 12, 22, 11, 90]\n",
        "target = 25\n",
        "result = linear_search(arr, target)\n",
        "\n",
        "if result != -1:\n",
        "    print(f\"Element {target} found at index {result}\")\n",
        "else:\n",
        "    print(f\"Element {target} not found in the array\")"
      ]
    },
    {
      "cell_type": "code",
      "source": [
        "def binary_search(arr, target):\n",
        "    low, high = 0, len(arr) - 1\n",
        "\n",
        "    while low <= high:\n",
        "        mid = (low + high) // 2\n",
        "        mid_value = arr[mid]\n",
        "\n",
        "        if mid_value == target:\n",
        "            return mid  # Target found, return its index\n",
        "        elif mid_value < target:\n",
        "            low = mid + 1\n",
        "        else:\n",
        "            high = mid - 1\n",
        "\n",
        "    return -1  # Target not found, return -1\n",
        "\n",
        "# Example usage:\n",
        "arr = [1, 2, 3, 4, 5, 6, 7, 8, 9]\n",
        "target = 5\n",
        "result = binary_search(arr, target)\n",
        "\n",
        "if result != -1:\n",
        "    print(f\"Element {target} found at index {result}\")\n",
        "else:\n",
        "    print(f\"Element {target} not found in the array\")"
      ],
      "metadata": {
        "id": "Xz05-Vwb_m87"
      },
      "execution_count": null,
      "outputs": []
    },
    {
      "cell_type": "code",
      "source": [
        "def selection_sort(arr):\n",
        "    n = len(arr)\n",
        "\n",
        "    for i in range(n - 1):\n",
        "        min_index = i\n",
        "        for j in range(i + 1, n):\n",
        "            if arr[j] < arr[min_index]:\n",
        "                min_index = j\n",
        "        arr[i], arr[min_index] = arr[min_index], arr[i]\n",
        "\n",
        "    return arr\n",
        "\n",
        "# Example usage:\n",
        "arr = [64, 34, 25, 12, 22, 11, 90]\n",
        "sorted_arr = selection_sort(arr)\n",
        "print(\"Sorted array is:\", sorted_arr)"
      ],
      "metadata": {
        "id": "zA9jx9dQAA1G"
      },
      "execution_count": null,
      "outputs": []
    }
  ]
}
