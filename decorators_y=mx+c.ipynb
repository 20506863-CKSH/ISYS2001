{
  "nbformat": 4,
  "nbformat_minor": 0,
  "metadata": {
    "colab": {
      "name": "decorators_y=mx+c.ipynb",
      "provenance": [],
      "authorship_tag": "ABX9TyPzNhw3rMWiwyyzcH5eG5C/",
      "include_colab_link": true
    },
    "kernelspec": {
      "name": "python3",
      "display_name": "Python 3"
    },
    "language_info": {
      "name": "python"
    },
    "widgets": {
      "application/vnd.jupyter.widget-state+json": {
        "6d9c076bf0b349ed86b508ebd89cb284": {
          "model_module": "@jupyter-widgets/controls",
          "model_name": "VBoxModel",
          "model_module_version": "1.5.0",
          "state": {
            "_dom_classes": [
              "widget-interact"
            ],
            "_model_module": "@jupyter-widgets/controls",
            "_model_module_version": "1.5.0",
            "_model_name": "VBoxModel",
            "_view_count": null,
            "_view_module": "@jupyter-widgets/controls",
            "_view_module_version": "1.5.0",
            "_view_name": "VBoxView",
            "box_style": "",
            "children": [
              "IPY_MODEL_bbbe28d056254f45af21dfdb3fad2505",
              "IPY_MODEL_8f60c278102b4c6f8131945c682bfa1d",
              "IPY_MODEL_528612645665486da6c9b605eae3695b"
            ],
            "layout": "IPY_MODEL_fc2fccdcbdbb4ce297110cca993c25d2"
          }
        },
        "bbbe28d056254f45af21dfdb3fad2505": {
          "model_module": "@jupyter-widgets/controls",
          "model_name": "FloatSliderModel",
          "model_module_version": "1.5.0",
          "state": {
            "_dom_classes": [],
            "_model_module": "@jupyter-widgets/controls",
            "_model_module_version": "1.5.0",
            "_model_name": "FloatSliderModel",
            "_view_count": null,
            "_view_module": "@jupyter-widgets/controls",
            "_view_module_version": "1.5.0",
            "_view_name": "FloatSliderView",
            "continuous_update": true,
            "description": "m",
            "description_tooltip": null,
            "disabled": false,
            "layout": "IPY_MODEL_c9897847b6434e5eb508b59bd606af4f",
            "max": 10,
            "min": -10,
            "orientation": "horizontal",
            "readout": true,
            "readout_format": ".2f",
            "step": 0.5,
            "style": "IPY_MODEL_e532e1c5b2f94435b24a90718a69224c",
            "value": -4.5
          }
        },
        "8f60c278102b4c6f8131945c682bfa1d": {
          "model_module": "@jupyter-widgets/controls",
          "model_name": "FloatSliderModel",
          "model_module_version": "1.5.0",
          "state": {
            "_dom_classes": [],
            "_model_module": "@jupyter-widgets/controls",
            "_model_module_version": "1.5.0",
            "_model_name": "FloatSliderModel",
            "_view_count": null,
            "_view_module": "@jupyter-widgets/controls",
            "_view_module_version": "1.5.0",
            "_view_name": "FloatSliderView",
            "continuous_update": true,
            "description": "c",
            "description_tooltip": null,
            "disabled": false,
            "layout": "IPY_MODEL_2b4575ada0df4c2180e547076a210b91",
            "max": 5,
            "min": -5,
            "orientation": "horizontal",
            "readout": true,
            "readout_format": ".2f",
            "step": 0.5,
            "style": "IPY_MODEL_505df41951c54244aa980ae054b3095f",
            "value": 1
          }
        },
        "528612645665486da6c9b605eae3695b": {
          "model_module": "@jupyter-widgets/output",
          "model_name": "OutputModel",
          "model_module_version": "1.0.0",
          "state": {
            "_dom_classes": [],
            "_model_module": "@jupyter-widgets/output",
            "_model_module_version": "1.0.0",
            "_model_name": "OutputModel",
            "_view_count": null,
            "_view_module": "@jupyter-widgets/output",
            "_view_module_version": "1.0.0",
            "_view_name": "OutputView",
            "layout": "IPY_MODEL_5850fa2b76444fc5864a01e88e239561",
            "msg_id": "",
            "outputs": [
              {
                "output_type": "display_data",
                "data": {
                  "text/plain": "<Figure size 432x288 with 1 Axes>",
                  "image/png": "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\n"
                },
                "metadata": {
                  "needs_background": "light"
                }
              }
            ]
          }
        },
        "fc2fccdcbdbb4ce297110cca993c25d2": {
          "model_module": "@jupyter-widgets/base",
          "model_name": "LayoutModel",
          "model_module_version": "1.2.0",
          "state": {
            "_model_module": "@jupyter-widgets/base",
            "_model_module_version": "1.2.0",
            "_model_name": "LayoutModel",
            "_view_count": null,
            "_view_module": "@jupyter-widgets/base",
            "_view_module_version": "1.2.0",
            "_view_name": "LayoutView",
            "align_content": null,
            "align_items": null,
            "align_self": null,
            "border": null,
            "bottom": null,
            "display": null,
            "flex": null,
            "flex_flow": null,
            "grid_area": null,
            "grid_auto_columns": null,
            "grid_auto_flow": null,
            "grid_auto_rows": null,
            "grid_column": null,
            "grid_gap": null,
            "grid_row": null,
            "grid_template_areas": null,
            "grid_template_columns": null,
            "grid_template_rows": null,
            "height": null,
            "justify_content": null,
            "justify_items": null,
            "left": null,
            "margin": null,
            "max_height": null,
            "max_width": null,
            "min_height": null,
            "min_width": null,
            "object_fit": null,
            "object_position": null,
            "order": null,
            "overflow": null,
            "overflow_x": null,
            "overflow_y": null,
            "padding": null,
            "right": null,
            "top": null,
            "visibility": null,
            "width": null
          }
        },
        "c9897847b6434e5eb508b59bd606af4f": {
          "model_module": "@jupyter-widgets/base",
          "model_name": "LayoutModel",
          "model_module_version": "1.2.0",
          "state": {
            "_model_module": "@jupyter-widgets/base",
            "_model_module_version": "1.2.0",
            "_model_name": "LayoutModel",
            "_view_count": null,
            "_view_module": "@jupyter-widgets/base",
            "_view_module_version": "1.2.0",
            "_view_name": "LayoutView",
            "align_content": null,
            "align_items": null,
            "align_self": null,
            "border": null,
            "bottom": null,
            "display": null,
            "flex": null,
            "flex_flow": null,
            "grid_area": null,
            "grid_auto_columns": null,
            "grid_auto_flow": null,
            "grid_auto_rows": null,
            "grid_column": null,
            "grid_gap": null,
            "grid_row": null,
            "grid_template_areas": null,
            "grid_template_columns": null,
            "grid_template_rows": null,
            "height": null,
            "justify_content": null,
            "justify_items": null,
            "left": null,
            "margin": null,
            "max_height": null,
            "max_width": null,
            "min_height": null,
            "min_width": null,
            "object_fit": null,
            "object_position": null,
            "order": null,
            "overflow": null,
            "overflow_x": null,
            "overflow_y": null,
            "padding": null,
            "right": null,
            "top": null,
            "visibility": null,
            "width": null
          }
        },
        "e532e1c5b2f94435b24a90718a69224c": {
          "model_module": "@jupyter-widgets/controls",
          "model_name": "SliderStyleModel",
          "model_module_version": "1.5.0",
          "state": {
            "_model_module": "@jupyter-widgets/controls",
            "_model_module_version": "1.5.0",
            "_model_name": "SliderStyleModel",
            "_view_count": null,
            "_view_module": "@jupyter-widgets/base",
            "_view_module_version": "1.2.0",
            "_view_name": "StyleView",
            "description_width": "",
            "handle_color": null
          }
        },
        "2b4575ada0df4c2180e547076a210b91": {
          "model_module": "@jupyter-widgets/base",
          "model_name": "LayoutModel",
          "model_module_version": "1.2.0",
          "state": {
            "_model_module": "@jupyter-widgets/base",
            "_model_module_version": "1.2.0",
            "_model_name": "LayoutModel",
            "_view_count": null,
            "_view_module": "@jupyter-widgets/base",
            "_view_module_version": "1.2.0",
            "_view_name": "LayoutView",
            "align_content": null,
            "align_items": null,
            "align_self": null,
            "border": null,
            "bottom": null,
            "display": null,
            "flex": null,
            "flex_flow": null,
            "grid_area": null,
            "grid_auto_columns": null,
            "grid_auto_flow": null,
            "grid_auto_rows": null,
            "grid_column": null,
            "grid_gap": null,
            "grid_row": null,
            "grid_template_areas": null,
            "grid_template_columns": null,
            "grid_template_rows": null,
            "height": null,
            "justify_content": null,
            "justify_items": null,
            "left": null,
            "margin": null,
            "max_height": null,
            "max_width": null,
            "min_height": null,
            "min_width": null,
            "object_fit": null,
            "object_position": null,
            "order": null,
            "overflow": null,
            "overflow_x": null,
            "overflow_y": null,
            "padding": null,
            "right": null,
            "top": null,
            "visibility": null,
            "width": null
          }
        },
        "505df41951c54244aa980ae054b3095f": {
          "model_module": "@jupyter-widgets/controls",
          "model_name": "SliderStyleModel",
          "model_module_version": "1.5.0",
          "state": {
            "_model_module": "@jupyter-widgets/controls",
            "_model_module_version": "1.5.0",
            "_model_name": "SliderStyleModel",
            "_view_count": null,
            "_view_module": "@jupyter-widgets/base",
            "_view_module_version": "1.2.0",
            "_view_name": "StyleView",
            "description_width": "",
            "handle_color": null
          }
        },
        "5850fa2b76444fc5864a01e88e239561": {
          "model_module": "@jupyter-widgets/base",
          "model_name": "LayoutModel",
          "model_module_version": "1.2.0",
          "state": {
            "_model_module": "@jupyter-widgets/base",
            "_model_module_version": "1.2.0",
            "_model_name": "LayoutModel",
            "_view_count": null,
            "_view_module": "@jupyter-widgets/base",
            "_view_module_version": "1.2.0",
            "_view_name": "LayoutView",
            "align_content": null,
            "align_items": null,
            "align_self": null,
            "border": null,
            "bottom": null,
            "display": null,
            "flex": null,
            "flex_flow": null,
            "grid_area": null,
            "grid_auto_columns": null,
            "grid_auto_flow": null,
            "grid_auto_rows": null,
            "grid_column": null,
            "grid_gap": null,
            "grid_row": null,
            "grid_template_areas": null,
            "grid_template_columns": null,
            "grid_template_rows": null,
            "height": null,
            "justify_content": null,
            "justify_items": null,
            "left": null,
            "margin": null,
            "max_height": null,
            "max_width": null,
            "min_height": null,
            "min_width": null,
            "object_fit": null,
            "object_position": null,
            "order": null,
            "overflow": null,
            "overflow_x": null,
            "overflow_y": null,
            "padding": null,
            "right": null,
            "top": null,
            "visibility": null,
            "width": null
          }
        },
        "63eb514a544c489798bdc38b24f402f3": {
          "model_module": "@jupyter-widgets/controls",
          "model_name": "VBoxModel",
          "model_module_version": "1.5.0",
          "state": {
            "_dom_classes": [
              "widget-interact"
            ],
            "_model_module": "@jupyter-widgets/controls",
            "_model_module_version": "1.5.0",
            "_model_name": "VBoxModel",
            "_view_count": null,
            "_view_module": "@jupyter-widgets/controls",
            "_view_module_version": "1.5.0",
            "_view_name": "VBoxView",
            "box_style": "",
            "children": [
              "IPY_MODEL_0330786adce6420ca424cb78e531843c",
              "IPY_MODEL_3505ded21f3e495f9ef71dad65933088",
              "IPY_MODEL_beaa348594f44a04b25b686765349f11"
            ],
            "layout": "IPY_MODEL_8ab11abe5d4448f88bb16f398423c220"
          }
        },
        "0330786adce6420ca424cb78e531843c": {
          "model_module": "@jupyter-widgets/controls",
          "model_name": "FloatSliderModel",
          "model_module_version": "1.5.0",
          "state": {
            "_dom_classes": [],
            "_model_module": "@jupyter-widgets/controls",
            "_model_module_version": "1.5.0",
            "_model_name": "FloatSliderModel",
            "_view_count": null,
            "_view_module": "@jupyter-widgets/controls",
            "_view_module_version": "1.5.0",
            "_view_name": "FloatSliderView",
            "continuous_update": true,
            "description": "m",
            "description_tooltip": null,
            "disabled": false,
            "layout": "IPY_MODEL_4dc27a738c1949d6b4cd3d6bd052c938",
            "max": 10,
            "min": -10,
            "orientation": "horizontal",
            "readout": true,
            "readout_format": ".2f",
            "step": 0.5,
            "style": "IPY_MODEL_aca2c828ef27496bbfda9ea75936ddc7",
            "value": 0
          }
        },
        "3505ded21f3e495f9ef71dad65933088": {
          "model_module": "@jupyter-widgets/controls",
          "model_name": "FloatSliderModel",
          "model_module_version": "1.5.0",
          "state": {
            "_dom_classes": [],
            "_model_module": "@jupyter-widgets/controls",
            "_model_module_version": "1.5.0",
            "_model_name": "FloatSliderModel",
            "_view_count": null,
            "_view_module": "@jupyter-widgets/controls",
            "_view_module_version": "1.5.0",
            "_view_name": "FloatSliderView",
            "continuous_update": true,
            "description": "c",
            "description_tooltip": null,
            "disabled": false,
            "layout": "IPY_MODEL_b1be19af52b84ca0b2d0f6d4cdb482e8",
            "max": 5,
            "min": -5,
            "orientation": "horizontal",
            "readout": true,
            "readout_format": ".2f",
            "step": 0.5,
            "style": "IPY_MODEL_3f056d46977e4c58813b9d038fdf07d3",
            "value": 0
          }
        },
        "beaa348594f44a04b25b686765349f11": {
          "model_module": "@jupyter-widgets/output",
          "model_name": "OutputModel",
          "model_module_version": "1.0.0",
          "state": {
            "_dom_classes": [],
            "_model_module": "@jupyter-widgets/output",
            "_model_module_version": "1.0.0",
            "_model_name": "OutputModel",
            "_view_count": null,
            "_view_module": "@jupyter-widgets/output",
            "_view_module_version": "1.0.0",
            "_view_name": "OutputView",
            "layout": "IPY_MODEL_db559eb2fc2b488da9c74be15724c045",
            "msg_id": "",
            "outputs": [
              {
                "output_type": "display_data",
                "data": {
                  "text/plain": "<Figure size 432x288 with 1 Axes>",
                  "image/png": "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\n"
                },
                "metadata": {
                  "needs_background": "light"
                }
              }
            ]
          }
        },
        "8ab11abe5d4448f88bb16f398423c220": {
          "model_module": "@jupyter-widgets/base",
          "model_name": "LayoutModel",
          "model_module_version": "1.2.0",
          "state": {
            "_model_module": "@jupyter-widgets/base",
            "_model_module_version": "1.2.0",
            "_model_name": "LayoutModel",
            "_view_count": null,
            "_view_module": "@jupyter-widgets/base",
            "_view_module_version": "1.2.0",
            "_view_name": "LayoutView",
            "align_content": null,
            "align_items": null,
            "align_self": null,
            "border": null,
            "bottom": null,
            "display": null,
            "flex": null,
            "flex_flow": null,
            "grid_area": null,
            "grid_auto_columns": null,
            "grid_auto_flow": null,
            "grid_auto_rows": null,
            "grid_column": null,
            "grid_gap": null,
            "grid_row": null,
            "grid_template_areas": null,
            "grid_template_columns": null,
            "grid_template_rows": null,
            "height": null,
            "justify_content": null,
            "justify_items": null,
            "left": null,
            "margin": null,
            "max_height": null,
            "max_width": null,
            "min_height": null,
            "min_width": null,
            "object_fit": null,
            "object_position": null,
            "order": null,
            "overflow": null,
            "overflow_x": null,
            "overflow_y": null,
            "padding": null,
            "right": null,
            "top": null,
            "visibility": null,
            "width": null
          }
        },
        "4dc27a738c1949d6b4cd3d6bd052c938": {
          "model_module": "@jupyter-widgets/base",
          "model_name": "LayoutModel",
          "model_module_version": "1.2.0",
          "state": {
            "_model_module": "@jupyter-widgets/base",
            "_model_module_version": "1.2.0",
            "_model_name": "LayoutModel",
            "_view_count": null,
            "_view_module": "@jupyter-widgets/base",
            "_view_module_version": "1.2.0",
            "_view_name": "LayoutView",
            "align_content": null,
            "align_items": null,
            "align_self": null,
            "border": null,
            "bottom": null,
            "display": null,
            "flex": null,
            "flex_flow": null,
            "grid_area": null,
            "grid_auto_columns": null,
            "grid_auto_flow": null,
            "grid_auto_rows": null,
            "grid_column": null,
            "grid_gap": null,
            "grid_row": null,
            "grid_template_areas": null,
            "grid_template_columns": null,
            "grid_template_rows": null,
            "height": null,
            "justify_content": null,
            "justify_items": null,
            "left": null,
            "margin": null,
            "max_height": null,
            "max_width": null,
            "min_height": null,
            "min_width": null,
            "object_fit": null,
            "object_position": null,
            "order": null,
            "overflow": null,
            "overflow_x": null,
            "overflow_y": null,
            "padding": null,
            "right": null,
            "top": null,
            "visibility": null,
            "width": null
          }
        },
        "aca2c828ef27496bbfda9ea75936ddc7": {
          "model_module": "@jupyter-widgets/controls",
          "model_name": "SliderStyleModel",
          "model_module_version": "1.5.0",
          "state": {
            "_model_module": "@jupyter-widgets/controls",
            "_model_module_version": "1.5.0",
            "_model_name": "SliderStyleModel",
            "_view_count": null,
            "_view_module": "@jupyter-widgets/base",
            "_view_module_version": "1.2.0",
            "_view_name": "StyleView",
            "description_width": "",
            "handle_color": null
          }
        },
        "b1be19af52b84ca0b2d0f6d4cdb482e8": {
          "model_module": "@jupyter-widgets/base",
          "model_name": "LayoutModel",
          "model_module_version": "1.2.0",
          "state": {
            "_model_module": "@jupyter-widgets/base",
            "_model_module_version": "1.2.0",
            "_model_name": "LayoutModel",
            "_view_count": null,
            "_view_module": "@jupyter-widgets/base",
            "_view_module_version": "1.2.0",
            "_view_name": "LayoutView",
            "align_content": null,
            "align_items": null,
            "align_self": null,
            "border": null,
            "bottom": null,
            "display": null,
            "flex": null,
            "flex_flow": null,
            "grid_area": null,
            "grid_auto_columns": null,
            "grid_auto_flow": null,
            "grid_auto_rows": null,
            "grid_column": null,
            "grid_gap": null,
            "grid_row": null,
            "grid_template_areas": null,
            "grid_template_columns": null,
            "grid_template_rows": null,
            "height": null,
            "justify_content": null,
            "justify_items": null,
            "left": null,
            "margin": null,
            "max_height": null,
            "max_width": null,
            "min_height": null,
            "min_width": null,
            "object_fit": null,
            "object_position": null,
            "order": null,
            "overflow": null,
            "overflow_x": null,
            "overflow_y": null,
            "padding": null,
            "right": null,
            "top": null,
            "visibility": null,
            "width": null
          }
        },
        "3f056d46977e4c58813b9d038fdf07d3": {
          "model_module": "@jupyter-widgets/controls",
          "model_name": "SliderStyleModel",
          "model_module_version": "1.5.0",
          "state": {
            "_model_module": "@jupyter-widgets/controls",
            "_model_module_version": "1.5.0",
            "_model_name": "SliderStyleModel",
            "_view_count": null,
            "_view_module": "@jupyter-widgets/base",
            "_view_module_version": "1.2.0",
            "_view_name": "StyleView",
            "description_width": "",
            "handle_color": null
          }
        },
        "db559eb2fc2b488da9c74be15724c045": {
          "model_module": "@jupyter-widgets/base",
          "model_name": "LayoutModel",
          "model_module_version": "1.2.0",
          "state": {
            "_model_module": "@jupyter-widgets/base",
            "_model_module_version": "1.2.0",
            "_model_name": "LayoutModel",
            "_view_count": null,
            "_view_module": "@jupyter-widgets/base",
            "_view_module_version": "1.2.0",
            "_view_name": "LayoutView",
            "align_content": null,
            "align_items": null,
            "align_self": null,
            "border": null,
            "bottom": null,
            "display": null,
            "flex": null,
            "flex_flow": null,
            "grid_area": null,
            "grid_auto_columns": null,
            "grid_auto_flow": null,
            "grid_auto_rows": null,
            "grid_column": null,
            "grid_gap": null,
            "grid_row": null,
            "grid_template_areas": null,
            "grid_template_columns": null,
            "grid_template_rows": null,
            "height": null,
            "justify_content": null,
            "justify_items": null,
            "left": null,
            "margin": null,
            "max_height": null,
            "max_width": null,
            "min_height": null,
            "min_width": null,
            "object_fit": null,
            "object_position": null,
            "order": null,
            "overflow": null,
            "overflow_x": null,
            "overflow_y": null,
            "padding": null,
            "right": null,
            "top": null,
            "visibility": null,
            "width": null
          }
        }
      }
    }
  },
  "cells": [
    {
      "cell_type": "markdown",
      "metadata": {
        "id": "view-in-github",
        "colab_type": "text"
      },
      "source": [
        "<a href=\"https://colab.research.google.com/github/michael-borck/isys2001-worksheets/blob/main/decorators_y%3Dmx%2Bc.ipynb\" target=\"_parent\"><img src=\"https://colab.research.google.com/assets/colab-badge.svg\" alt=\"Open In Colab\"/></a>"
      ]
    },
    {
      "cell_type": "markdown",
      "source": [
        "# Plot of a line\n",
        "\n",
        "    y = mx +c\n",
        "    \n",
        "Play with the slope `m` and the y-intercept `c` "
      ],
      "metadata": {
        "id": "IiZGIzw7GPVp"
      }
    },
    {
      "cell_type": "code",
      "execution_count": 2,
      "metadata": {
        "colab": {
          "base_uri": "https://localhost:8080/",
          "height": 346,
          "referenced_widgets": [
            "6d9c076bf0b349ed86b508ebd89cb284",
            "bbbe28d056254f45af21dfdb3fad2505",
            "8f60c278102b4c6f8131945c682bfa1d",
            "528612645665486da6c9b605eae3695b",
            "fc2fccdcbdbb4ce297110cca993c25d2",
            "c9897847b6434e5eb508b59bd606af4f",
            "e532e1c5b2f94435b24a90718a69224c",
            "2b4575ada0df4c2180e547076a210b91",
            "505df41951c54244aa980ae054b3095f",
            "5850fa2b76444fc5864a01e88e239561"
          ]
        },
        "id": "u5sVVrKfFMFP",
        "outputId": "d2df745d-c2d6-4571-d7cc-b51979f0fcb0"
      },
      "outputs": [
        {
          "output_type": "display_data",
          "data": {
            "text/plain": [
              "interactive(children=(FloatSlider(value=0.0, description='m', max=10.0, min=-10.0, step=0.5), FloatSlider(valu…"
            ],
            "application/vnd.jupyter.widget-view+json": {
              "version_major": 2,
              "version_minor": 0,
              "model_id": "6d9c076bf0b349ed86b508ebd89cb284"
            }
          },
          "metadata": {}
        },
        {
          "output_type": "execute_result",
          "data": {
            "text/plain": [
              "<function __main__.plot>"
            ]
          },
          "metadata": {},
          "execution_count": 2
        }
      ],
      "source": [
        "import matplotlib.pyplot as plt\n",
        "from ipywidgets import interact\n",
        "import numpy as np\n",
        "\n",
        "def plot(m,c):\n",
        "    x = np.random.rand(10)\n",
        "    y = m *x + c\n",
        "    plt.plot(x,y)\n",
        "    plt.show()\n",
        "\n",
        "interact(plot, m=(-10,10, 0.5), c=(-5,5,0.5))"
      ]
    },
    {
      "cell_type": "markdown",
      "source": [
        "# Python Decorators \n",
        "\n",
        "Same plot but with a decorator"
      ],
      "metadata": {
        "id": "ONpbdA25F8LB"
      }
    },
    {
      "cell_type": "code",
      "source": [
        "import matplotlib.pyplot as plt\n",
        "from ipywidgets import interact\n",
        "import numpy as np\n",
        "\n",
        "@interact(m=(-10,10, 0.5), c=(-5,5,0.5))\n",
        "def plot(m,c):\n",
        "    x = np.random.rand(10)\n",
        "    y = m *x + c\n",
        "    plt.plot(x,y)\n",
        "    plt.show()\n"
      ],
      "metadata": {
        "colab": {
          "base_uri": "https://localhost:8080/",
          "height": 329,
          "referenced_widgets": [
            "63eb514a544c489798bdc38b24f402f3",
            "0330786adce6420ca424cb78e531843c",
            "3505ded21f3e495f9ef71dad65933088",
            "beaa348594f44a04b25b686765349f11",
            "8ab11abe5d4448f88bb16f398423c220",
            "4dc27a738c1949d6b4cd3d6bd052c938",
            "aca2c828ef27496bbfda9ea75936ddc7",
            "b1be19af52b84ca0b2d0f6d4cdb482e8",
            "3f056d46977e4c58813b9d038fdf07d3",
            "db559eb2fc2b488da9c74be15724c045"
          ]
        },
        "id": "JrclWZNsFUtQ",
        "outputId": "6d84ae9b-61ab-40f5-8bb9-a6d7b9ac4a53"
      },
      "execution_count": 3,
      "outputs": [
        {
          "output_type": "display_data",
          "data": {
            "text/plain": [
              "interactive(children=(FloatSlider(value=0.0, description='m', max=10.0, min=-10.0, step=0.5), FloatSlider(valu…"
            ],
            "application/vnd.jupyter.widget-view+json": {
              "version_major": 2,
              "version_minor": 0,
              "model_id": "63eb514a544c489798bdc38b24f402f3"
            }
          },
          "metadata": {}
        }
      ]
    },
    {
      "cell_type": "code",
      "source": [
        ""
      ],
      "metadata": {
        "id": "GhqoQrK8GjMy"
      },
      "execution_count": null,
      "outputs": []
    }
  ]
}