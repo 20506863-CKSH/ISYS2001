{
  "nbformat": 4,
  "nbformat_minor": 0,
  "metadata": {
    "colab": {
      "provenance": [],
      "authorship_tag": "ABX9TyNuajzg5rgxNVYu6dPa//cP",
      "include_colab_link": true
    },
    "kernelspec": {
      "name": "python3",
      "display_name": "Python 3"
    },
    "language_info": {
      "name": "python"
    }
  },
  "cells": [
    {
      "cell_type": "markdown",
      "metadata": {
        "id": "view-in-github",
        "colab_type": "text"
      },
      "source": [
        "<a href=\"https://colab.research.google.com/github/20506863-CKSH/ISYS2001/blob/main/dmoj_data_plan.ipynb\" target=\"_parent\"><img src=\"https://colab.research.google.com/assets/colab-badge.svg\" alt=\"Open In Colab\"/></a>"
      ]
    },
    {
      "cell_type": "code",
      "execution_count": 5,
      "metadata": {
        "colab": {
          "base_uri": "https://localhost:8080/"
        },
        "id": "6in0CP0TYLHd",
        "outputId": "ef9fb386-5815-48f0-b566-42a92ce3ad68"
      },
      "outputs": [
        {
          "output_type": "stream",
          "name": "stdout",
          "text": [
            "10\n",
            "3\n",
            "4\n",
            "6\n",
            "2\n",
            "28\n"
          ]
        }
      ],
      "source": [
        "...\n",
        "10\n",
        "3\n",
        "4\n",
        "6\n",
        "2\n",
        "...\n",
        "monthly_mb = int(input())\n",
        "n_months = int(input())\n",
        "\n",
        "excess = monthly_mb\n",
        "for month in range(n_months):\n",
        "    usage = int(input())\n",
        "    excess = excess - usage + monthly_mb\n",
        "\n",
        "print(excess)"
      ]
    },
    {
      "cell_type": "code",
      "source": [],
      "metadata": {
        "id": "ZxKMTQ5MYpb-"
      },
      "execution_count": null,
      "outputs": []
    }
  ]
}