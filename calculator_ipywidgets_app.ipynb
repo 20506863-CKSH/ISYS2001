{
  "nbformat": 4,
  "nbformat_minor": 0,
  "metadata": {
    "colab": {
      "name": "calculator_ipywidgets_app.ipynb",
      "provenance": [],
      "authorship_tag": "ABX9TyNc60pkcdDKPnJeBHGKKnxA",
      "include_colab_link": true
    },
    "kernelspec": {
      "name": "python3",
      "display_name": "Python 3"
    },
    "language_info": {
      "name": "python"
    }
  },
  "cells": [
    {
      "cell_type": "markdown",
      "metadata": {
        "id": "view-in-github",
        "colab_type": "text"
      },
      "source": [
        "<a href=\"https://colab.research.google.com/github/michael-borck/isys2001-worksheets/blob/main/calculator_ipywidgets_app.ipynb\" target=\"_parent\"><img src=\"https://colab.research.google.com/assets/colab-badge.svg\" alt=\"Open In Colab\"/></a>"
      ]
    },
    {
      "cell_type": "markdown",
      "source": [
        "# Calculator App\n",
        "\n",
        "Notebook to demonstrate the 'app' pattern.  The 'app' pattern consists of having one notebook with all the code\n",
        "and then an 'app' notebook the uses notebook magics to run the other notebook:\n",
        "\n",
        "    %run other_notebook.ipynb\n",
        "\n",
        "If we are on Google Colab, then the `other_notebook.ipynb` may not be on the same vm-instance.  So if it doesn't exist, wget (copy) from GitHub."
      ],
      "metadata": {
        "id": "-n--ThUtKHyP"
      }
    },
    {
      "cell_type": "code",
      "execution_count": null,
      "metadata": {
        "id": "9cYi6f_2JhMZ"
      },
      "outputs": [],
      "source": [
        "#@title\n",
        "from IPython.display import clear_output\n",
        "from os.path import exists\n",
        "if not exists('calculator_ipywidgets.ipynb'):\n",
        "  !wget https://raw.githubusercontent.com/michael-borck/isys2001-worksheets/main/calculator_ipywidgets.ipynb\n",
        "clear_output()\n",
        "\n"
      ]
    },
    {
      "cell_type": "code",
      "source": [
        ""
      ],
      "metadata": {
        "id": "3UOL7emhLZK9"
      },
      "execution_count": null,
      "outputs": []
    }
  ]
}