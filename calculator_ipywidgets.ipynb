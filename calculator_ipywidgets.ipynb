{
  "nbformat": 4,
  "nbformat_minor": 0,
  "metadata": {
    "colab": {
      "name": "calculator_ipywidgets.ipynb",
      "provenance": [],
      "authorship_tag": "ABX9TyP3FOqj8LlyQCTYxuvDIuk0",
      "include_colab_link": true
    },
    "kernelspec": {
      "name": "python3",
      "display_name": "Python 3"
    },
    "language_info": {
      "name": "python"
    }
  },
  "cells": [
    {
      "cell_type": "markdown",
      "metadata": {
        "id": "view-in-github",
        "colab_type": "text"
      },
      "source": [
        "<a href=\"https://colab.research.google.com/github/michael-borck/isys2001-worksheets/blob/main/calculator_ipywidgets.ipynb\" target=\"_parent\"><img src=\"https://colab.research.google.com/assets/colab-badge.svg\" alt=\"Open In Colab\"/></a>"
      ]
    },
    {
      "cell_type": "code",
      "execution_count": null,
      "metadata": {
        "id": "h-W2-V6YS9UK",
        "cellView": "form"
      },
      "outputs": [],
      "source": [
        "#@title\n",
        "import ipywidgets as ipw\n",
        "\n",
        "output = ipw.Text(placeholder=\"0\", layout=ipw.Layout(width=\"190px\"),  disabled=True)\n",
        "\n",
        "def on_click(btn):\n",
        "    if btn.description == \"=\":\n",
        "        try:\n",
        "            output.value = str(eval(output.value))\n",
        "        except:\n",
        "            output.value = \"ERROR\"\n",
        "    elif btn.description == \"AC\":\n",
        "        output.value = \"\"\n",
        "    elif btn.description == \"del\":\n",
        "        output.value = output.value[:-1]\n",
        "    else:\n",
        "        output.value = output.value + btn.description\n",
        "\n",
        "def mk_btn(description):\n",
        "    btn = ipw.Button(description=description, layout=ipw.Layout(width=\"45px\"))\n",
        "    btn.on_click(on_click)\n",
        "    return btn\n",
        "\n",
        "row0 = ipw.HBox([mk_btn(d) for d in (\"(\", \")\", \"del\", \"AC\")])\n",
        "row1 = ipw.HBox([mk_btn(d) for d in (\"7\", \"8\", \"9\", \" / \")])\n",
        "row2 = ipw.HBox([mk_btn(d) for d in (\"4\", \"5\", \"6\", \" * \")])\n",
        "row3 = ipw.HBox([mk_btn(d) for d in (\"1\", \"2\", \"3\", \" - \")])\n",
        "row4 = ipw.HBox([mk_btn(d) for d in (\"0\", \".\", \"=\", \" + \")])\n",
        "app = ipw.VBox((output, row0, row1, row2, row3, row4))\n",
        "display(app)"
      ]
    }
  ]
}